{
 "cells": [
  {
   "cell_type": "markdown",
   "id": "6a1e1be9",
   "metadata": {},
   "source": [
    "Дана целочисленная квадратная матрица. Определить:\n",
    "сумму элементов в тех строках, которые не содержат отрицательных элементов;\n",
    "минимум среди сумм элементов диагоналей, параллельных главной диагонали матрицы.\n",
    "\n",
    "\n",
    "\n",
    "\n",
    "Для начала импортируем numpy и создадим матрицу"
   ]
  },
  {
   "cell_type": "code",
   "execution_count": 32,
   "id": "b0f7eac6",
   "metadata": {
    "scrolled": true
   },
   "outputs": [
    {
     "name": "stdout",
     "output_type": "stream",
     "text": [
      "[[   1   -2    3   54   -4]\n",
      " [  43    1    8   21   64]\n",
      " [-983   27    0   44   32]\n",
      " [  11   22   33   44   55]\n",
      " [   7    2   98  -45   23]]\n"
     ]
    }
   ],
   "source": [
    "import numpy as np\n",
    "\n",
    "m = np.matrix('1 -2 3 54 -4; 43 1 8 21 64; -983 27 0 44 32 ; 11 22 33 44 55; 7 2 98 -45 23')\n",
    "print(m)"
   ]
  },
  {
   "cell_type": "markdown",
   "id": "82664b27",
   "metadata": {},
   "source": [
    "1. Для нахождения суммы элементов в строках, не содержащих отриц.элементов воспользуемся функцией where "
   ]
  },
  {
   "cell_type": "code",
   "execution_count": 33,
   "id": "29c09e22",
   "metadata": {},
   "outputs": [
    {
     "data": {
      "text/plain": [
       "array([['String contains negative element'],\n",
       "       ['137'],\n",
       "       ['String contains negative element'],\n",
       "       ['165'],\n",
       "       ['String contains negative element']], dtype='<U32')"
      ]
     },
     "execution_count": 33,
     "metadata": {},
     "output_type": "execute_result"
    }
   ],
   "source": [
    "np.where((m >= 0).all(axis=1), m.sum(axis=1), \"String contains negative element\")"
   ]
  },
  {
   "cell_type": "markdown",
   "id": "3cbaced9",
   "metadata": {},
   "source": [
    "2. Сначала определим размер матрицы и создадим список с суммой элементов каждой диагонали, а затем найдём наименьшее число в этом списке"
   ]
  },
  {
   "cell_type": "code",
   "execution_count": 40,
   "id": "ed8a3242",
   "metadata": {},
   "outputs": [
    {
     "name": "stdout",
     "output_type": "stream",
     "text": [
      "[0, 7, 13, -863, 58, 69, 105, 56, 118, -4]\n",
      "Minimal sum of elements:  -863\n"
     ]
    }
   ],
   "source": [
    "size = m.shape\n",
    "n = size[0]\n",
    "\n",
    "min_elems = [(np.diagonal(m, offset = i, axis1=0, axis2=1)).sum() for i in range(-n, n)]\n",
    "print(min_elems)\n",
    "print(f'Minimal sum of elements: ', min(min_elems))"
   ]
  },
  {
   "cell_type": "code",
   "execution_count": null,
   "id": "cc4d0f86",
   "metadata": {},
   "outputs": [],
   "source": []
  }
 ],
 "metadata": {
  "kernelspec": {
   "display_name": "Python 3 (ipykernel)",
   "language": "python",
   "name": "python3"
  },
  "language_info": {
   "codemirror_mode": {
    "name": "ipython",
    "version": 3
   },
   "file_extension": ".py",
   "mimetype": "text/x-python",
   "name": "python",
   "nbconvert_exporter": "python",
   "pygments_lexer": "ipython3",
   "version": "3.9.13"
  }
 },
 "nbformat": 4,
 "nbformat_minor": 5
}
