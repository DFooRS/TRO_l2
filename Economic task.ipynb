{
 "cells": [
  {
   "cell_type": "markdown",
   "id": "bf5dbe9f",
   "metadata": {},
   "source": [
    "За период с 1960 по 1986 г. прирост производительности\n",
    "труда в США составил 35% прироста производительности труда\n",
    "в Японии. Темп роста этого показателя составил в США 0,5% в\n",
    "год, а уровень Японии составлял в 1960 г. 22% уровня США.\n",
    "Если указанная тенденция сохранится, когда Япония догонит\n",
    "США по производительности труда?  \n",
    "\n"
   ]
  },
  {
   "cell_type": "code",
   "execution_count": 1,
   "id": "f233566b",
   "metadata": {},
   "outputs": [],
   "source": [
    "import numpy as np"
   ]
  },
  {
   "cell_type": "markdown",
   "id": "3a0fb84e",
   "metadata": {},
   "source": [
    "Эта прогнозная задача опирается на принцип экстраполяции,\n",
    "то есть распространения нынешних тенденций в будущее. \n",
    "\n",
    "Расчеты строятся следующим образом.\n",
    "Обозначим через х темп роста производительности труда в\n",
    "Японии, тогда: 0,35 * x; — это темп роста производительности в\n",
    "США, равный 0,5%. \n",
    "\n",
    "Отсюда $ x = 0,5 / 0,35 $\n"
   ]
  },
  {
   "cell_type": "code",
   "execution_count": 12,
   "id": "d5beb366",
   "metadata": {},
   "outputs": [
    {
     "data": {
      "text/plain": [
       "1.43"
      ]
     },
     "execution_count": 12,
     "metadata": {},
     "output_type": "execute_result"
    }
   ],
   "source": [
    "x = 0.5 / 0.35\n",
    "np.around(x, decimals = 2)"
   ]
  },
  {
   "cell_type": "markdown",
   "id": "9e8d5dcc",
   "metadata": {},
   "source": [
    "Пусть t — искомое число лет начиная с 1960 г. Тогда уравнение\n",
    "для определения t таково: \n",
    "\n",
    "$ (1,0143)^t * 22 = 100 * (1,005)^t $\n",
    "\n",
    "В результате, логарифмируя это уравнение, получаем \n",
    "\n",
    "$ t * log(1,00925) = log(100/22)$\n"
   ]
  },
  {
   "cell_type": "code",
   "execution_count": 23,
   "id": "566b3cf0",
   "metadata": {},
   "outputs": [
    {
     "name": "stdout",
     "output_type": "stream",
     "text": [
      "Это произойдёт через 164.4 года\n"
     ]
    }
   ],
   "source": [
    "t = np.log(100/22) / np.log(1.00925)\n",
    "print(f'Это произойдёт через', np.around(t, decimals = 1), 'года')"
   ]
  }
 ],
 "metadata": {
  "kernelspec": {
   "display_name": "Python 3 (ipykernel)",
   "language": "python",
   "name": "python3"
  },
  "language_info": {
   "codemirror_mode": {
    "name": "ipython",
    "version": 3
   },
   "file_extension": ".py",
   "mimetype": "text/x-python",
   "name": "python",
   "nbconvert_exporter": "python",
   "pygments_lexer": "ipython3",
   "version": "3.9.13"
  }
 },
 "nbformat": 4,
 "nbformat_minor": 5
}
